{
 "cells": [
  {
   "cell_type": "code",
   "execution_count": 1,
   "id": "e1830119",
   "metadata": {},
   "outputs": [],
   "source": [
    "import functools\n",
    "import re\n",
    "from pathlib import Path\n",
    "\n",
    "import matplotlib.patches as patches\n",
    "import matplotlib.pyplot as plt\n",
    "import numpy as np\n",
    "import pandas as pd\n",
    "import requests\n",
    "import seaborn as sns"
   ]
  },
  {
   "cell_type": "markdown",
   "id": "ac70787f",
   "metadata": {},
   "source": [
    "# Wordle word elimination progress graphs"
   ]
  },
  {
   "cell_type": "markdown",
   "id": "883dd52b",
   "metadata": {},
   "source": [
    "## Load the word list\n",
    "\n",
    "You will need a downloaded copy of the Wordle JavaScript source code.  The notebook will attempt to download this using the `requests` library, but if that fails, this can be manually downloaded as follows (the instructions are for the FireFox browser, others should be broadly similar):-\n",
    "\n",
    "* visit the Wordle site https://www.nytimes.com/games/wordle/index.html and right click:\"View Page Source\" in your browser\n",
    "* look for a `<script>` tag that contains a reference to the source - it will have the form `main.xxxxxxxx.js` where the `xxxxxxxx` is a string of hexadecimal digits, e.g. `<script src=\"main.4d41d2be.js\"></script>`\n",
    "* replace the `index.html` in the URL above with the `main.xxxxxxxx.js` (e.g. https://www.nytimes.com/games/wordle/main.4d41d2be.js) then right click:\"Save Page As\", saving the file under its `main.xxxxxxxx.js` name in the same folder as this notebook"
   ]
  },
  {
   "cell_type": "code",
   "execution_count": 2,
   "id": "44f43e9a",
   "metadata": {},
   "outputs": [],
   "source": [
    "wordle_base_url = \"https://www.nytimes.com/games/wordle/\"\n",
    "wordle_url = wordle_base_url + \"index.html\""
   ]
  },
  {
   "cell_type": "code",
   "execution_count": 3,
   "id": "af8ba130",
   "metadata": {},
   "outputs": [
    {
     "name": "stdout",
     "output_type": "stream",
     "text": [
      "Using cached wordle source code: main.bfba912f.js\n"
     ]
    }
   ],
   "source": [
    "try:\n",
    "    wordle_js = list(Path().glob(\"main.????????.js\"))[0]\n",
    "    print(f\"Using cached wordle source code: {wordle_js.name}\")\n",
    "except IndexError:\n",
    "    print(f\"Attempting to download the Wordle source code from {wordle_url}\")\n",
    "    req = requests.session()\n",
    "    try:\n",
    "        wordle_page = req.get(wordle_url)\n",
    "    except Exception as e:\n",
    "        print(\"Failed to download Wordle source code\")\n",
    "        raise RuntimeError(\n",
    "            \"You must supply Wordle javascript source code as described above.\"\n",
    "        )\n",
    "    _match = re.search(\n",
    "        r'<script src=\"(?P<wordle_js>main\\.[^.]+.js)\"></script>', wordle_page.text\n",
    "    )\n",
    "    if _match is not None:\n",
    "        wordle_js = Path(_match.group(\"wordle_js\"))\n",
    "        wordle_js_content = req.get(wordle_base_url + wordle_js.name)\n",
    "        with wordle_js.open(\"w\", encoding=wordle_js_content.encoding) as fd:\n",
    "            fd.write(wordle_js_content.text)\n",
    "    else:\n",
    "        raise RuntimeError(\n",
    "            \"You must supply Wordle javascript source code as described above.\"\n",
    "        )"
   ]
  },
  {
   "cell_type": "code",
   "execution_count": 4,
   "id": "fe16c4bb",
   "metadata": {},
   "outputs": [],
   "source": [
    "with wordle_js.open(encoding=\"utf-8\") as fd:\n",
    "    wordle_src = fd.read()"
   ]
  },
  {
   "cell_type": "markdown",
   "id": "b010204f",
   "metadata": {},
   "source": [
    "The regular expression below is intended to find the word list.  It may fail if the variable name (`Ma` in the below) changes.  If that happens, you will need to examine the source code for the correct variable name and edit the pattern below accordingly.\n",
    "\n",
    "There are two word lists in the source. You are looking for the first, shorter one.  (The other longer list is the list of allowed guesses.)"
   ]
  },
  {
   "cell_type": "code",
   "execution_count": 5,
   "id": "41dedebe",
   "metadata": {},
   "outputs": [],
   "source": [
    "word_list_str = re.search(r\"Ma=\\[([^]]+)\\]\", wordle_src).group(1)"
   ]
  },
  {
   "cell_type": "code",
   "execution_count": 6,
   "id": "a683554f",
   "metadata": {},
   "outputs": [],
   "source": [
    "word_list = list(map(lambda x: x.replace('\"', \"\"), word_list_str.split(\",\")))"
   ]
  },
  {
   "cell_type": "code",
   "execution_count": 7,
   "id": "755b0958",
   "metadata": {},
   "outputs": [],
   "source": [
    "words = pd.DataFrame(data=word_list, columns=[\"word\"])"
   ]
  },
  {
   "cell_type": "markdown",
   "id": "d9dab4df",
   "metadata": {},
   "source": [
    "# Utility functions\n",
    "\n",
    "The following adds labels to a matplotlib bar chart with the values of each bar.  It's a slight modification of the final function here: http://composition.al/blog/2015/11/29/a-better-way-to-add-labels-to-bar-charts-with-matplotlib/"
   ]
  },
  {
   "cell_type": "code",
   "execution_count": 8,
   "id": "863edd99",
   "metadata": {},
   "outputs": [],
   "source": [
    "def autolabel(ax, rects=None):\n",
    "    if rects is None:\n",
    "        rects = ax.patches\n",
    "\n",
    "    # Get y-axis height to calculate label position from.\n",
    "    (y_bottom, y_top) = ax.get_ylim()\n",
    "    y_height = y_top - y_bottom\n",
    "\n",
    "    for rect in rects:\n",
    "        height = rect.get_height()\n",
    "\n",
    "        # Fraction of axis height taken up by this rectangle\n",
    "        p_height = height / y_height\n",
    "\n",
    "        # If we can fit the label above the column, do that;\n",
    "        # otherwise, put it inside the column.\n",
    "        if p_height > 0.95:  # arbitrary; 95% looked good to me.\n",
    "            label_position = height - (y_height * 0.05)\n",
    "        else:\n",
    "            label_position = height + (y_height * 0.01)\n",
    "\n",
    "        ax.text(\n",
    "            rect.get_x() + rect.get_width() / 2.0,\n",
    "            label_position,\n",
    "            \"%d\" % int(height),\n",
    "            ha=\"center\",\n",
    "            va=\"bottom\",\n",
    "        )"
   ]
  },
  {
   "cell_type": "markdown",
   "id": "2f09ee99",
   "metadata": {},
   "source": [
    "The following relaxes some `pandas` defaults when displaying a `DataFrame`"
   ]
  },
  {
   "cell_type": "code",
   "execution_count": 9,
   "id": "07d4c3fa",
   "metadata": {},
   "outputs": [],
   "source": [
    "wide = pd.option_context(\"display.max_colwidth\", 256, \"display.max_columns\", None)"
   ]
  },
  {
   "cell_type": "code",
   "execution_count": 10,
   "id": "9d10002b",
   "metadata": {},
   "outputs": [],
   "source": [
    "def get_bar_width(ax):\n",
    "    rects = ax.patches\n",
    "    return rects[0].get_width()"
   ]
  },
  {
   "cell_type": "code",
   "execution_count": 11,
   "id": "8dc9f79f",
   "metadata": {},
   "outputs": [],
   "source": [
    "def plot_guess_feedback(ax, guess_number, guess_feedback, bar_width=0.5):\n",
    "    feedback_colours = {\n",
    "        \".\": \"lightgray\",\n",
    "        \"Y\": \"yellow\",\n",
    "        \"G\": \"green\",\n",
    "    }\n",
    "\n",
    "    # transformations between data coordinates and display coordinates\n",
    "    data2display = ax.transData\n",
    "    display2data = ax.transData.inverted()\n",
    "\n",
    "    # 5 squares to each bar\n",
    "    sq_width = bar_width / 5\n",
    "\n",
    "    # how many display pixels wide is the square?\n",
    "    sq_width_display = (\n",
    "        data2display.transform((sq_width, 0)) - data2display.transform((0, 0))\n",
    "    )[0]\n",
    "\n",
    "    # what difference in y-data-coordinates does that correspond to?\n",
    "    sq_height = (\n",
    "        display2data.transform((0, sq_width_display)) - display2data.transform((0, 0))\n",
    "    )[1]\n",
    "\n",
    "    # offset the squares below the x-axis\n",
    "    baseline = -sq_height * 1.1\n",
    "\n",
    "    plt.ylim(bottom=baseline)\n",
    "\n",
    "    for i, f in enumerate(guess_feedback):\n",
    "        ax.add_patch(\n",
    "            patches.Rectangle(\n",
    "                (guess_number - bar_width / 2 + i * sq_width, baseline),\n",
    "                sq_width,\n",
    "                sq_height,\n",
    "                edgecolor=\"white\",\n",
    "                facecolor=feedback_colours[guess_feedback[i]],\n",
    "            )\n",
    "        )"
   ]
  },
  {
   "cell_type": "markdown",
   "id": "02e2bdfe",
   "metadata": {},
   "source": [
    "# Elimination analysis functions"
   ]
  },
  {
   "cell_type": "markdown",
   "id": "075b7bf5",
   "metadata": {},
   "source": [
    "These functions work on a list of guesses.  Each guess is a `tuple` containing a word (in lower case) and the feedback given by Wordle for that word.\n",
    "\n",
    "Feedback is encoded as a string of \".\" (not in the word) \"Y\" (in the word but in the wrong position) and \"G\" (right letter in the right position).\n",
    "\n",
    "e.g. My guesses for Wordle 243 looked like this:-\n",
    "\n",
    "```\n",
    "guesses = [\n",
    "    (\"raise\", \".Y.YG\"),\n",
    "    (\"slate\", \"G.G.G\"),\n",
    "    (\"shade\", \"GGG.G\"),\n",
    "    (\"shape\", \"GGG.G\"),\n",
    "    (\"shake\", \"GGGGG\"),\n",
    "]\n",
    "```\n"
   ]
  },
  {
   "cell_type": "code",
   "execution_count": 12,
   "id": "1f5de158",
   "metadata": {},
   "outputs": [],
   "source": [
    "def mk_filter_re(guesses):\n",
    "    \"\"\"Return a regular expression that encapsulates all information in the guesses.\"\"\"\n",
    "    re_slots = {i: None for i in range(5)}\n",
    "    excluded_by_position = {i: set() for i in range(5)}\n",
    "    excluded_everywhere = set()\n",
    "\n",
    "    for guess, feedback in guesses:\n",
    "        for i, c in enumerate(guess):\n",
    "            if feedback[i] == \"G\":\n",
    "                re_slots[i] = c\n",
    "                excluded_by_position[i] = set()\n",
    "            elif feedback[i] == \"Y\":\n",
    "                excluded_by_position[i].add(c)\n",
    "            elif feedback[i] == \".\":\n",
    "                excluded_everywhere.add(c)\n",
    "    # all excluded_by_position must appear, so cannot be in the excluded_everywhere set.  remove them now\n",
    "    # this allows for the situation where a guess e.g. contains two occurrences of a letter and one is \n",
    "    # \"Y\" and one is \".\" - i.e. (\"ardor\", \"GY.G.\")\n",
    "    all_excluded_by_position = functools.reduce(lambda a, b: a.union(b), excluded_by_position.values())\n",
    "    excluded_everywhere = excluded_everywhere - all_excluded_by_position\n",
    "\n",
    "    filter_re = \"(?=\"\n",
    "    for i in range(5):\n",
    "        if re_slots[i] is not None:\n",
    "            filter_re += re_slots[i]\n",
    "        else:\n",
    "            _excludes = excluded_everywhere.union(excluded_by_position[i])\n",
    "            if len(_excludes):\n",
    "                filter_re += \"[^\" + \"\".join(sorted(_excludes)) + \"]\"\n",
    "            else:\n",
    "                filter_re += \".\"\n",
    "    filter_re += \")\"\n",
    "\n",
    "    for c in functools.reduce(lambda a, b: a.union(b), excluded_by_position.values()):\n",
    "        filter_re += f\"(?=.*{c}.*)\"\n",
    "\n",
    "    return re.compile(filter_re)"
   ]
  },
  {
   "cell_type": "markdown",
   "id": "1694db8b",
   "metadata": {},
   "source": [
    "A few symbols for the dataframe:-"
   ]
  },
  {
   "cell_type": "code",
   "execution_count": 13,
   "id": "d4a60fed",
   "metadata": {},
   "outputs": [],
   "source": [
    "trans = dict()\n",
    "trans[\".\"] = \"⬛\"\n",
    "trans[\"Y\"] = \"🟨\"\n",
    "trans[\"G\"] = \"🟩\""
   ]
  },
  {
   "cell_type": "markdown",
   "id": "582d2657",
   "metadata": {},
   "source": [
    "Create a `DataFrame` of the guess progress:-"
   ]
  },
  {
   "cell_type": "code",
   "execution_count": 14,
   "id": "7dd01178",
   "metadata": {},
   "outputs": [],
   "source": [
    "def elimination_progress(guesses):\n",
    "    data = list()\n",
    "    for i in range(len(guesses)):\n",
    "        remaining = words.loc[words[\"word\"].str.match(mk_filter_re(guesses[: i + 1]))]\n",
    "        feedback = \"\".join(trans[x] for x in guesses[i][1])\n",
    "        data.append(\n",
    "            [\n",
    "                i + 1,\n",
    "                guesses[i][0],\n",
    "                guesses[i][1],\n",
    "                feedback,\n",
    "                remaining.shape[0],\n",
    "                remaining[\"word\"].tolist(),\n",
    "            ]\n",
    "        )\n",
    "\n",
    "    return pd.DataFrame(\n",
    "        data,\n",
    "        columns=[\n",
    "            \"Guess #\",\n",
    "            \"Guess\",\n",
    "            \"Feedback\",\n",
    "            \"Feedback Graphical\",\n",
    "            \"Words Remaining After Guess\",\n",
    "            \"Remaining Words\",\n",
    "        ],\n",
    "    )"
   ]
  },
  {
   "cell_type": "markdown",
   "id": "cfaa7b9e",
   "metadata": {},
   "source": [
    "Create a word elimination progress chart"
   ]
  },
  {
   "cell_type": "code",
   "execution_count": 15,
   "id": "1ece750b",
   "metadata": {},
   "outputs": [],
   "source": [
    "def plot_progress(guesses, number=None):\n",
    "    df = elimination_progress(guesses)\n",
    "    ax = df.plot(\n",
    "        x=\"Guess #\", y=\"Words Remaining After Guess\", kind=\"bar\", color=\"lightgray\"\n",
    "    )\n",
    "    # if Number is not supplied, we'll try to determine it from the guesses\n",
    "    # (only possible if the guess sequence ends with a \"GGGGG\"!)\n",
    "    if number is None:\n",
    "        if guesses[-1][1] == \"GGGGG\":\n",
    "            if guesses[-1][0] in word_list:\n",
    "                number = word_list.index(guesses[-1][0])\n",
    "    if number is None:\n",
    "        puzzle = \"Wordle\"\n",
    "    else:\n",
    "        puzzle = f\"Wordle{number}\"\n",
    "\n",
    "    # no non-integer y ticks:\n",
    "    ax.yaxis.set_major_locator(plt.MaxNLocator(integer=True))\n",
    "\n",
    "    # axes titles etc.\n",
    "    ax.set_title(f\"{puzzle}: Word Elimination Progress\")\n",
    "    ax.set_ylabel(\"Word Count\")\n",
    "    ax.set_xlabel(\"Guess\")\n",
    "\n",
    "    # make it look a bit nicer\n",
    "    sns.despine(offset=10, trim=False, bottom=True)\n",
    "\n",
    "    # add numeric labels to each bar (this must happen before the guess_feedback markers are added)\n",
    "    autolabel(ax)\n",
    "\n",
    "    # add indicators for each guess below the x-axis\n",
    "    for i, guess in enumerate(guesses):\n",
    "        plot_guess_feedback(ax, i, guess[1])\n",
    "\n",
    "    plt.savefig(f\"{puzzle.lower()}_progress.png\", facecolor=\"white\", transparent=False)\n",
    "    return ax"
   ]
  },
  {
   "cell_type": "markdown",
   "id": "fbda90ec",
   "metadata": {},
   "source": [
    "# Example:  My progress on Wordle 243\n",
    "\n",
    "I got this one in 5. My guesses looked like so:-\n",
    "\n",
    "```\n",
    "RAISE .Y.YG\n",
    "SLATE G.G.G\n",
    "SHADE GGG.G\n",
    "SHAPE GGG.G\n",
    "SHAKE GGGGG\n",
    "```"
   ]
  },
  {
   "cell_type": "code",
   "execution_count": 16,
   "id": "3ee8a50a",
   "metadata": {},
   "outputs": [],
   "source": [
    "guesses = [\n",
    "    (\"raise\", \".Y.YG\"),\n",
    "    (\"slate\", \"G.G.G\"),\n",
    "    (\"shade\", \"GGG.G\"),\n",
    "    (\"shape\", \"GGG.G\"),\n",
    "    (\"shake\", \"GGGGG\"),\n",
    "]"
   ]
  },
  {
   "cell_type": "code",
   "execution_count": 17,
   "id": "5183f4a1",
   "metadata": {},
   "outputs": [
    {
     "data": {
      "image/png": "[encoded data removed]",
      "text/plain": [
       "<Figure size 432x288 with 1 Axes>"
      ]
     },
     "metadata": {
      "needs_background": "light"
     },
     "output_type": "display_data"
    }
   ],
   "source": [
    "_ = plot_progress(guesses)"
   ]
  },
  {
   "cell_type": "code",
   "execution_count": 18,
   "id": "dce0d64e",
   "metadata": {},
   "outputs": [
    {
     "data": {
      "text/html": [
       "<div>\n",
       "<style scoped>\n",
       "    .dataframe tbody tr th:only-of-type {\n",
       "        vertical-align: middle;\n",
       "    }\n",
       "\n",
       "    .dataframe tbody tr th {\n",
       "        vertical-align: top;\n",
       "    }\n",
       "\n",
       "    .dataframe thead th {\n",
       "        text-align: right;\n",
       "    }\n",
       "</style>\n",
       "<table border=\"1\" class=\"dataframe\">\n",
       "  <thead>\n",
       "    <tr style=\"text-align: right;\">\n",
       "      <th></th>\n",
       "      <th>Guess #</th>\n",
       "      <th>Guess</th>\n",
       "      <th>Feedback</th>\n",
       "      <th>Feedback Graphical</th>\n",
       "      <th>Words Remaining After Guess</th>\n",
       "      <th>Remaining Words</th>\n",
       "    </tr>\n",
       "  </thead>\n",
       "  <tbody>\n",
       "    <tr>\n",
       "      <th>0</th>\n",
       "      <td>1</td>\n",
       "      <td>raise</td>\n",
       "      <td>.Y.YG</td>\n",
       "      <td>⬛🟨⬛🟨🟩</td>\n",
       "      <td>19</td>\n",
       "      <td>[shake, shame, spade, stale, shade, stage, slate, usage, shape, space, stake, skate, suave, shale, snake, scale, stave, state, shave]</td>\n",
       "    </tr>\n",
       "    <tr>\n",
       "      <th>1</th>\n",
       "      <td>2</td>\n",
       "      <td>slate</td>\n",
       "      <td>G.G.G</td>\n",
       "      <td>🟩⬛🟩⬛🟩</td>\n",
       "      <td>9</td>\n",
       "      <td>[shake, shame, spade, shade, shape, space, suave, snake, shave]</td>\n",
       "    </tr>\n",
       "    <tr>\n",
       "      <th>2</th>\n",
       "      <td>3</td>\n",
       "      <td>shade</td>\n",
       "      <td>GGG.G</td>\n",
       "      <td>🟩🟩🟩⬛🟩</td>\n",
       "      <td>4</td>\n",
       "      <td>[shake, shame, shape, shave]</td>\n",
       "    </tr>\n",
       "    <tr>\n",
       "      <th>3</th>\n",
       "      <td>4</td>\n",
       "      <td>shape</td>\n",
       "      <td>GGG.G</td>\n",
       "      <td>🟩🟩🟩⬛🟩</td>\n",
       "      <td>3</td>\n",
       "      <td>[shake, shame, shave]</td>\n",
       "    </tr>\n",
       "    <tr>\n",
       "      <th>4</th>\n",
       "      <td>5</td>\n",
       "      <td>shake</td>\n",
       "      <td>GGGGG</td>\n",
       "      <td>🟩🟩🟩🟩🟩</td>\n",
       "      <td>1</td>\n",
       "      <td>[shake]</td>\n",
       "    </tr>\n",
       "  </tbody>\n",
       "</table>\n",
       "</div>"
      ],
      "text/plain": [
       "   Guess #  Guess Feedback Feedback Graphical  Words Remaining After Guess  \\\n",
       "0        1  raise    .Y.YG              ⬛🟨⬛🟨🟩                           19   \n",
       "1        2  slate    G.G.G              🟩⬛🟩⬛🟩                            9   \n",
       "2        3  shade    GGG.G              🟩🟩🟩⬛🟩                            4   \n",
       "3        4  shape    GGG.G              🟩🟩🟩⬛🟩                            3   \n",
       "4        5  shake    GGGGG              🟩🟩🟩🟩🟩                            1   \n",
       "\n",
       "                                                                                                                         Remaining Words  \n",
       "0  [shake, shame, spade, stale, shade, stage, slate, usage, shape, space, stake, skate, suave, shale, snake, scale, stave, state, shave]  \n",
       "1                                                                        [shake, shame, spade, shade, shape, space, suave, snake, shave]  \n",
       "2                                                                                                           [shake, shame, shape, shave]  \n",
       "3                                                                                                                  [shake, shame, shave]  \n",
       "4                                                                                                                                [shake]  "
      ]
     },
     "metadata": {},
     "output_type": "display_data"
    }
   ],
   "source": [
    "with wide:\n",
    "    display(elimination_progress(guesses))"
   ]
  },
  {
   "cell_type": "code",
   "execution_count": null,
   "id": "5ce52acf",
   "metadata": {},
   "outputs": [],
   "source": []
  }
 ],
 "metadata": {
  "kernelspec": {
   "display_name": "Python 3 (ipykernel)",
   "language": "python",
   "name": "python3"
  },
  "language_info": {
   "codemirror_mode": {
    "name": "ipython",
    "version": 3
   },
   "file_extension": ".py",
   "mimetype": "text/x-python",
   "name": "python",
   "nbconvert_exporter": "python",
   "pygments_lexer": "ipython3",
   "version": "3.9.12"
  },
  "toc-autonumbering": true
 },
 "nbformat": 4,
 "nbformat_minor": 5
}
